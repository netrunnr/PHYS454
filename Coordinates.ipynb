{
  "nbformat": 4,
  "nbformat_minor": 0,
  "metadata": {
    "colab": {
      "name": "Coordinates.ipynb",
      "version": "0.3.2",
      "provenance": [],
      "collapsed_sections": [],
      "include_colab_link": true
    },
    "kernelspec": {
      "name": "python3",
      "display_name": "Python 3"
    }
  },
  "cells": [
    {
      "cell_type": "markdown",
      "metadata": {
        "id": "view-in-github",
        "colab_type": "text"
      },
      "source": [
        "<a href=\"https://colab.research.google.com/github/netrunnr/PHYS454/blob/master/Coordinates.ipynb\" target=\"_parent\"><img src=\"https://colab.research.google.com/assets/colab-badge.svg\" alt=\"Open In Colab\"/></a>"
      ]
    },
    {
      "cell_type": "markdown",
      "metadata": {
        "id": "KACWFZfSohj0",
        "colab_type": "text"
      },
      "source": [
        "# Coordinates & Sky Motion"
      ]
    },
    {
      "cell_type": "code",
      "metadata": {
        "id": "2KCZmDvipJ1I",
        "colab_type": "code",
        "colab": {}
      },
      "source": [
        "#imports all the needed libraries, no output expected from this cell but you must run this for later code to work\n",
        "from astropy import units as u\n",
        "from astropy.coordinates import SkyCoord, EarthLocation\n",
        "from astropy import coordinates as coord\n",
        "from astropy.coordinates.tests.utils import randomly_sample_sphere\n",
        "from astropy.time import Time\n",
        "from astropy.coordinates import AltAz\n",
        "from astropy.coordinates import get_sun\n",
        "\n",
        "import datetime\n",
        "\n",
        "from geopy.geocoders import Nominatim\n",
        "\n",
        "import matplotlib.pyplot as plt\n",
        "\n",
        "from datetime import datetime, timedelta\n",
        "from pytz import timezone\n",
        "import pytz\n",
        "\n",
        "import matplotlib.dates as mdates\n",
        "\n",
        "import numpy as np"
      ],
      "execution_count": 0,
      "outputs": []
    },
    {
      "cell_type": "markdown",
      "metadata": {
        "id": "W-uEz51aOoK7",
        "colab_type": "text"
      },
      "source": [
        "Material gratefully adapted from multiple sources including: http://adrian.pw/blog/yearly-sun-graph/, https://docs.astropy.org/en/stable/coordinates/, and from the course text."
      ]
    },
    {
      "cell_type": "markdown",
      "metadata": {
        "id": "1doGeCCOJn3C",
        "colab_type": "text"
      },
      "source": [
        "The **Celestial Sphere** is a model used to help us understand the positions of objects in the sky and how they move. Imagine a line projecting out along Earth's North pole and intersecting a sphere at a point. That point on the celestial sphere is the **North Celestial Pole**. The projection out of the Earth's equator makes a circle on the sphere, this is the **Celestial Equator**. The sphere is independent of any idea of distance from the Earth, which is helpful because we do not need to know about the distance to an astronomical object in order to talk about the positions and movements of objects in the sky. \n",
        "\n",
        "The stars are so distant that we can assume, for the purposes of this model, that they don't move relative to one another. They can be thought of as fixed into the sphere or painted on the sphere. Since the stars are in reality at many distances from Earth this is an inaccurate representation, but nevertheless the celestial sphere is a useful tool.\n",
        "\n",
        "The Ecliptic represents the plane of the Solar System, or the plane defined by the Earth's orbit. It cuts the celestial sphere, deviating at maximum by the tilt of the Earth's axis, 23.5 degrees. The Sun and planets approximately travel along the ecliptic. \n",
        "\n",
        "Fig 1: The Celestial Sphere\n",
        "\n",
        "![The Celestial Sphere with Earth centered within it and the North Celestial Pole at top](http://hyperphysics.phy-astr.gsu.edu/hbase/Solar/imgsol/eclipr.gif)"
      ]
    },
    {
      "cell_type": "markdown",
      "metadata": {
        "id": "uAEFnRBpZINY",
        "colab_type": "text"
      },
      "source": [
        "Like latitude and longitude are used as coordinates on the surface of near-spherical Earth, stars or other celestial objects have coordinates on the celestial sphere. Right Ascension ($\\alpha$) is the equivalent of longitude, while Declination ($\\delta$) is . This means that Right Ascension is measured *along* the celestial equator, while declination is measured *above* the celestial equator (Fig 2).\n",
        "\n",
        "Fig 2: Celestial Sphere including lines of Right Ascension and Declination\n",
        "\n",
        "![Celestial Sphere including lines of Right Ascension and Declination](https://www.researchgate.net/profile/Raghav_Maini/publication/305044094/figure/fig3/AS:669950733742082@1536740110163/The-celestial-sphere-with-grid-lines-of-right-ascension-and-declination.ppm)\n"
      ]
    },
    {
      "cell_type": "code",
      "metadata": {
        "id": "GpbbF5Pk2xt_",
        "colab_type": "code",
        "outputId": "a91cb0ae-5170-46ad-ef20-b52013fdada2",
        "colab": {
          "base_uri": "https://localhost:8080/",
          "height": 52
        }
      },
      "source": [
        "#Example of grabbing the ra and dec coordinates for an object by name, in this case of the Andromeda Galaxy, or Messier 31 (M31)\n",
        "m31 = SkyCoord.from_name('M31')\n",
        "print(m31)"
      ],
      "execution_count": 0,
      "outputs": [
        {
          "output_type": "stream",
          "text": [
            "<SkyCoord (ICRS): (ra, dec) in deg\n",
            "    (10.68470833, 41.26875)>\n"
          ],
          "name": "stdout"
        }
      ]
    },
    {
      "cell_type": "code",
      "metadata": {
        "id": "icz212vcBlRN",
        "colab_type": "code",
        "outputId": "52d3e9c5-79ce-4541-9c14-be6b338f484f",
        "colab": {
          "base_uri": "https://localhost:8080/",
          "height": 348
        }
      },
      "source": [
        "#Why can't we grab coordinates for the Sun?\n",
        "sun = SkyCoord.from_name('Sun')\n",
        "print(sun)"
      ],
      "execution_count": 0,
      "outputs": [
        {
          "output_type": "error",
          "ename": "NameResolveError",
          "evalue": "ignored",
          "traceback": [
            "\u001b[0;31m---------------------------------------------------------------------------\u001b[0m",
            "\u001b[0;31mNameResolveError\u001b[0m                          Traceback (most recent call last)",
            "\u001b[0;32m<ipython-input-44-5d7097152896>\u001b[0m in \u001b[0;36m<module>\u001b[0;34m()\u001b[0m\n\u001b[0;32m----> 1\u001b[0;31m \u001b[0msun\u001b[0m \u001b[0;34m=\u001b[0m \u001b[0mSkyCoord\u001b[0m\u001b[0;34m.\u001b[0m\u001b[0mfrom_name\u001b[0m\u001b[0;34m(\u001b[0m\u001b[0;34m'Sun'\u001b[0m\u001b[0;34m)\u001b[0m\u001b[0;34m\u001b[0m\u001b[0;34m\u001b[0m\u001b[0m\n\u001b[0m\u001b[1;32m      2\u001b[0m \u001b[0mprint\u001b[0m\u001b[0;34m(\u001b[0m\u001b[0msun\u001b[0m\u001b[0;34m)\u001b[0m\u001b[0;34m\u001b[0m\u001b[0;34m\u001b[0m\u001b[0m\n",
            "\u001b[0;32m/usr/local/lib/python3.6/dist-packages/astropy/coordinates/sky_coordinate.py\u001b[0m in \u001b[0;36mfrom_name\u001b[0;34m(cls, name, frame)\u001b[0m\n\u001b[1;32m   1690\u001b[0m         \u001b[0;32mfrom\u001b[0m \u001b[0;34m.\u001b[0m\u001b[0mname_resolve\u001b[0m \u001b[0;32mimport\u001b[0m \u001b[0mget_icrs_coordinates\u001b[0m\u001b[0;34m\u001b[0m\u001b[0;34m\u001b[0m\u001b[0m\n\u001b[1;32m   1691\u001b[0m \u001b[0;34m\u001b[0m\u001b[0m\n\u001b[0;32m-> 1692\u001b[0;31m         \u001b[0micrs_coord\u001b[0m \u001b[0;34m=\u001b[0m \u001b[0mget_icrs_coordinates\u001b[0m\u001b[0;34m(\u001b[0m\u001b[0mname\u001b[0m\u001b[0;34m)\u001b[0m\u001b[0;34m\u001b[0m\u001b[0;34m\u001b[0m\u001b[0m\n\u001b[0m\u001b[1;32m   1693\u001b[0m         \u001b[0micrs_sky_coord\u001b[0m \u001b[0;34m=\u001b[0m \u001b[0mcls\u001b[0m\u001b[0;34m(\u001b[0m\u001b[0micrs_coord\u001b[0m\u001b[0;34m)\u001b[0m\u001b[0;34m\u001b[0m\u001b[0;34m\u001b[0m\u001b[0m\n\u001b[1;32m   1694\u001b[0m         \u001b[0;32mif\u001b[0m \u001b[0mframe\u001b[0m \u001b[0;32min\u001b[0m \u001b[0;34m(\u001b[0m\u001b[0;34m'icrs'\u001b[0m\u001b[0;34m,\u001b[0m \u001b[0micrs_coord\u001b[0m\u001b[0;34m.\u001b[0m\u001b[0m__class__\u001b[0m\u001b[0;34m)\u001b[0m\u001b[0;34m:\u001b[0m\u001b[0;34m\u001b[0m\u001b[0;34m\u001b[0m\u001b[0m\n",
            "\u001b[0;32m/usr/local/lib/python3.6/dist-packages/astropy/coordinates/name_resolve.py\u001b[0m in \u001b[0;36mget_icrs_coordinates\u001b[0;34m(name)\u001b[0m\n\u001b[1;32m    169\u001b[0m                   \u001b[0;34m.\u001b[0m\u001b[0mformat\u001b[0m\u001b[0;34m(\u001b[0m\u001b[0mname\u001b[0m\u001b[0;34m,\u001b[0m \u001b[0mdatabase\u001b[0m\u001b[0;34m)\u001b[0m\u001b[0;34m\u001b[0m\u001b[0;34m\u001b[0m\u001b[0m\n\u001b[1;32m    170\u001b[0m \u001b[0;34m\u001b[0m\u001b[0m\n\u001b[0;32m--> 171\u001b[0;31m         \u001b[0;32mraise\u001b[0m \u001b[0mNameResolveError\u001b[0m\u001b[0;34m(\u001b[0m\u001b[0merr\u001b[0m\u001b[0;34m)\u001b[0m\u001b[0;34m\u001b[0m\u001b[0;34m\u001b[0m\u001b[0m\n\u001b[0m\u001b[1;32m    172\u001b[0m \u001b[0;34m\u001b[0m\u001b[0m\n\u001b[1;32m    173\u001b[0m     \u001b[0;31m# Return SkyCoord object\u001b[0m\u001b[0;34m\u001b[0m\u001b[0;34m\u001b[0m\u001b[0;34m\u001b[0m\u001b[0m\n",
            "\u001b[0;31mNameResolveError\u001b[0m: Unable to find coordinates for name 'Sun'"
          ]
        }
      ]
    },
    {
      "cell_type": "markdown",
      "metadata": {
        "id": "Cn2REHYRAcV8",
        "colab_type": "text"
      },
      "source": [
        "Fig 3: Analemma\n",
        "\n",
        "![alt text](https://scienceblogs.com/files/startswithabang/files/2009/08/analemma.gif)"
      ]
    },
    {
      "cell_type": "markdown",
      "metadata": {
        "id": "3OWFnNg_OTPo",
        "colab_type": "text"
      },
      "source": [
        "![alt text](https://upload.wikimedia.org/wikipedia/commons/thumb/8/8c/Analemma_fishburn.tif/lossy-page1-560px-Analemma_fishburn.tif.jpg)"
      ]
    },
    {
      "cell_type": "markdown",
      "metadata": {
        "id": "9HeCa-DvLfsw",
        "colab_type": "text"
      },
      "source": [
        "**QUESTION: What causes the Sun to vary in declination?**"
      ]
    },
    {
      "cell_type": "markdown",
      "metadata": {
        "id": "cwFXzVFAMJPy",
        "colab_type": "text"
      },
      "source": [
        "The idea of the celestial sphere is often used in combination with a model of an observer's **horizon**. In Fig 1, the North Celestial Pole is at the top, but in our horizon model, we see that is not necessarily the case. The horizon is the circle which separates the part of the sky we can see from the part of the sky we can't see due to it being blocked by the Earth. For this example we take the whole celestial sphere and turn it in such a way that it represents the sky as it appears at a particular location.\n",
        "\n",
        "Fig 4: The Horizon Model\n",
        "\n",
        "![Diagram with observer at center of sphere representing the celestial sphere, with North Celestial Pole at about a 45 degree angle above the horizon](https://physics.weber.edu/schroeder/ua/CelestialSphere.png)"
      ]
    },
    {
      "cell_type": "markdown",
      "metadata": {
        "id": "pmD6f87dM6sd",
        "colab_type": "text"
      },
      "source": [
        "The celestial sphere is useful because it not only tells us about one sky we might see at a particular location, but also how that sky changes over the course of a night or over the course of a year. For example, Earth's rotation can be represented by rotating the celestial sphere around an axis going through the celestial poles. From a given location, the stars my rise and set. The sense of rotation can be seen with the arrows by the celestial poles in Fig 2, and show that for a mid Northern latitude like the one pictured, the stars which rise will do so somewhere within the Eastern part of the sky (e.g. Northeast or Southeast) and set somewhere within the Western part of the sky (e.g. in the Northwest or Southwest). The **Zenith** of an observer is the point directly overhead, and the **Celestial Meridian** is the half circle going from North on the horizon, through the zenith, to the South horizon. An object **transits** when it passes the meridian.\n"
      ]
    },
    {
      "cell_type": "markdown",
      "metadata": {
        "id": "9dD2mkLvAM-W",
        "colab_type": "text"
      },
      "source": [
        "**QUESTION: If the declination of the Sun is 10° north and I observe it to transit 22° south of my zenith, where am I and when is it?**"
      ]
    },
    {
      "cell_type": "markdown",
      "metadata": {
        "id": "79FrWYrKe_Aa",
        "colab_type": "text"
      },
      "source": [
        "In addition to defining a coordinate system to the stars, we can define a coordinate system relative to an observer. **Altitude** is the angle above the horizon perpendicular to the horizon, while **Azimuth** is measured in degrees East of North, parallel to the horizon (Fig 5).\n",
        "\n",
        "Fig 5: Altitude and Azimuth\n",
        "\n",
        "![A model showing how the location of a star is defined by the Altitude above the horizon and Azimuth, the angle East of North](https://astronavigationdemystifieddotcom.files.wordpress.com/2015/11/altitude-and-azimuth-mod.jpg)"
      ]
    },
    {
      "cell_type": "markdown",
      "metadata": {
        "id": "6KMvyxUN_Lft",
        "colab_type": "text"
      },
      "source": [
        "**QUESTION: I am located at 47° north latitude.  I see a star transit 20° south of my zenith.  What is its declination? You may wish to draw a diagram of this scenario.**\n",
        "\n",
        "\n"
      ]
    },
    {
      "cell_type": "code",
      "metadata": {
        "id": "tEJYH2qX8NFF",
        "colab_type": "code",
        "outputId": "8e4cc4d7-fdb7-423c-c5ee-c370dab81d4f",
        "colab": {
          "base_uri": "https://localhost:8080/",
          "height": 52
        }
      },
      "source": [
        "#this shows an example of how to use SkyCoord to grab the altitude and azimuth of an object (in this case the Andromeda Galaxy, also known as M31) \n",
        "#as it appears for an observer at a specific location (in this case Bear Mountain in New York)\n",
        "\n",
        "m31 = SkyCoord.from_name('M31')\n",
        "bear_mountain = EarthLocation(lat=41.3*u.deg, lon=-74*u.deg, height=390*u.m)\n",
        "utcoffset = -4*u.hour  # Eastern Daylight Time\n",
        "time = Time('2019-8-27 22:00:00') - utcoffset\n",
        "m31altaz = m31.transform_to(AltAz(obstime=time,location=bear_mountain))\n",
        "\n",
        "print(\"M31's Altitude = {0.alt:.4}\".format(m31altaz))\n",
        "print(\"M31's Azimuth = {0.az:.4}\".format(m31altaz))"
      ],
      "execution_count": 0,
      "outputs": [
        {
          "output_type": "stream",
          "text": [
            "M31's Altitude = 32.98 deg\n",
            "M31's Azimuth = 61.4 deg\n"
          ],
          "name": "stdout"
        }
      ]
    },
    {
      "cell_type": "markdown",
      "metadata": {
        "id": "kNREwUsb6Vv7",
        "colab_type": "text"
      },
      "source": [
        "**QUESTION: Assuming the front of the room is North, point to where you think M31 would be in your sky.**\n",
        "\n"
      ]
    },
    {
      "cell_type": "code",
      "metadata": {
        "id": "f11SXYrxlCyF",
        "colab_type": "code",
        "outputId": "e7cec78b-c823-42ed-e6a8-1aebe5d80639",
        "colab": {
          "base_uri": "https://localhost:8080/",
          "height": 34
        }
      },
      "source": [
        "#This shows a trick to grab latitude and longitude from a named location using geolocator\n",
        "geolocator = Nominatim(user_agent=\"phys_454\")\n",
        "New_York_City = geolocator.geocode(\"New York, NY\")\n",
        "print(New_York_City.latitude,New_York_City.longitude)"
      ],
      "execution_count": 0,
      "outputs": [
        {
          "output_type": "stream",
          "text": [
            "40.7127281 -74.0060152\n"
          ],
          "name": "stdout"
        }
      ]
    },
    {
      "cell_type": "code",
      "metadata": {
        "id": "5pL6LoTepNDE",
        "colab_type": "code",
        "outputId": "714454ad-31e0-405d-c4e9-ef36b74a4b6a",
        "colab": {
          "base_uri": "https://localhost:8080/",
          "height": 34
        }
      },
      "source": [
        "#If you were not able to automatically look up the lat and long of your location, you can replace loc.latitude and loc.longitude with numerical values\n",
        "New_York_City_earthlocation = EarthLocation(lat=New_York_City.latitude*u.deg, lon=New_York_City.longitude*u.deg, height=0*u.m)\n",
        "\n",
        "utcoffset = -4*u.hour  # Eastern Daylight Time, may need to adjust for location\n",
        "time = Time('2019-8-27 11:30:00') - utcoffset\n",
        "\n",
        "#Defines a frame of the observer\n",
        "altaz = AltAz(obstime=time, location=New_York_City_earthlocation)\n",
        "\n",
        "#get_sun gets the general coordinates of the Sun at time = \"time\" and then transform_to(altaz) calculates altitude and azimuth for a given frame\n",
        "sun_coords = get_sun(time).transform_to(altaz)\n",
        "\n",
        "#print result, with format specified as showing two decimal places\n",
        "print(\"Sun's Altitude = {0.alt:.4}\".format(sun_coords))"
      ],
      "execution_count": 0,
      "outputs": [
        {
          "output_type": "stream",
          "text": [
            "Sun's Altitude = 53.71 deg\n"
          ],
          "name": "stdout"
        }
      ]
    },
    {
      "cell_type": "markdown",
      "metadata": {
        "id": "6wqbLxDo4oQ1",
        "colab_type": "text"
      },
      "source": [
        "\n",
        "\n",
        "Fig 6: Solar and Siderial Day\n",
        "\n",
        "![Diagram showing that the siderial day is slightly shorter than the solar day](http://www.celestialnorth.org/FAQtoids/SolSid_small.gif)"
      ]
    },
    {
      "cell_type": "markdown",
      "metadata": {
        "id": "x-2EO9CiErZu",
        "colab_type": "text"
      },
      "source": [
        "The Siderial day refers to the time it takes for the stars to reach the same position in the sky, while Solar day refers to the time it takes the Sun to reach the same position in the sky. Because the Earth must rotate slightly more due to the distance it has traveled in orbit, the solar day is longer than the siderial day by about 4 min. This relates to the Sun appearing to move relative to the background stars (Fig 6)."
      ]
    },
    {
      "cell_type": "markdown",
      "metadata": {
        "id": "I3A-ZYjWGT4m",
        "colab_type": "text"
      },
      "source": [
        "$\\omega_{siderial}(t)$ is the angular velocity of rotation around it's own axis with reference to the \"fixed stars\"\n",
        "\n",
        "\n",
        "$\\omega_{Earth Sun}(t)$ is the angular velocity of it's orbit around the Sun, also with reference to the \"fixed stars\"\n",
        "\n",
        "\n",
        "Then we have\n",
        "\n",
        "\n",
        "$\\omega_{siderial}(t) = \\omega_{solar}(t) + \\omega_{Earth Sun}(t)$\n",
        "\n",
        "\n",
        "Using the definition $\\omega = \\frac{2\\pi}{P}$ where P is the period, we get\n",
        "\n",
        "\n",
        "$\\frac{2\\pi}{P_{siderial}} = \\frac{2\\pi}{P_{solar}} + \\frac{2\\pi}{P_{Earth Sun}}$\n",
        "\n",
        "\n",
        "$P_{solar}$ is about 1 day, $P_{Earth Sun}$ is about 365 days, so $P_{Earth Sun} >> P_{solar}$\n",
        "\n",
        "\n",
        "$P_{sid} = (\\frac{1}{P_{solar}} + \\frac{1}{P_{Earth Sun}})^{-1} = P_{solar} (1 + \\frac{P_{Solar}}{P_{Earth Sun}})^{-1} \\approx P_{Solar} (1 - \\frac{P_{solar}}{P_{Earth Sun}})$\n",
        "\n",
        "\n",
        "The difference between the solar and siderial day is then $P_{solar} - P_{siderial} \\approx P_{solar} (\\frac{P_{solar}}{P_{Earth Sun}}) \\approx 1 day (\\frac{1}{365})(\\frac{24 hr}{1 day})(\\frac{60 min}{1 hr}) \\approx 4 min$"
      ]
    },
    {
      "cell_type": "markdown",
      "metadata": {
        "id": "A2cIxy8CKmXN",
        "colab_type": "text"
      },
      "source": [
        "This all assumed that $\\omega_{siderial}$ and $\\omega_{Earth Sun}$ are constant."
      ]
    },
    {
      "cell_type": "markdown",
      "metadata": {
        "id": "xyw1eIhRK3xI",
        "colab_type": "text"
      },
      "source": [
        "**QUESTION: Why might $\\vec{\\omega}_{siderial}$ and $\\vec{\\omega}_{Earth Sun}$ vary slightly over time?**"
      ]
    },
    {
      "cell_type": "markdown",
      "metadata": {
        "id": "pCeHOjDFLHfi",
        "colab_type": "text"
      },
      "source": [
        "We have the **apparent solar time**, measured by the Sun's actual position relative to the observer's meridian. This is the time measured by a sundial. There is also the **mean solar time**, which makes the assumption that the Sun travels steadily around the celestial equator at a constant rate, which is not entirely true. This is what your clocks measure."
      ]
    },
    {
      "cell_type": "markdown",
      "metadata": {
        "id": "MS5djtwDMd3j",
        "colab_type": "text"
      },
      "source": [
        "**QUESTION: Referring to Figure 3, what the maximum difference between the mean solar time and the apparent solar time? When does this occur? What physically accounts for this?**"
      ]
    }
  ]
}