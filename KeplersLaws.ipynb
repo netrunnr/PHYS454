{
  "nbformat": 4,
  "nbformat_minor": 0,
  "metadata": {
    "colab": {
      "name": "KeplersLaws.ipynb",
      "version": "0.3.2",
      "provenance": [],
      "collapsed_sections": [],
      "include_colab_link": true
    },
    "kernelspec": {
      "name": "python3",
      "display_name": "Python 3"
    }
  },
  "cells": [
    {
      "cell_type": "markdown",
      "metadata": {
        "id": "view-in-github",
        "colab_type": "text"
      },
      "source": [
        "<a href=\"https://colab.research.google.com/github/netrunnr/PHYS454/blob/master/KeplersLaws.ipynb\" target=\"_parent\"><img src=\"https://colab.research.google.com/assets/colab-badge.svg\" alt=\"Open In Colab\"/></a>"
      ]
    },
    {
      "cell_type": "markdown",
      "metadata": {
        "id": "p3ngMdfzn7HN",
        "colab_type": "text"
      },
      "source": [
        "\n",
        "#Kepler's Laws\n"
      ]
    },
    {
      "cell_type": "markdown",
      "metadata": {
        "id": "_ve5z7SCn_D1",
        "colab_type": "text"
      },
      "source": [
        "Material from part I gratefully adapted from https://github.com/katiebreivik/Keplers_Laws"
      ]
    },
    {
      "cell_type": "code",
      "metadata": {
        "id": "vN7fbYyiouEM",
        "colab_type": "code",
        "colab": {}
      },
      "source": [
        "% matplotlib inline\n",
        "import matplotlib.pyplot as plt\n",
        "import numpy as np"
      ],
      "execution_count": 0,
      "outputs": []
    },
    {
      "cell_type": "markdown",
      "metadata": {
        "id": "QcUlcFvv3agN",
        "colab_type": "text"
      },
      "source": [
        "This notebook is an interactive exploration of Kepler's laws. It also introduces functions and plotting using Python. It has two parts:\n",
        "\n",
        "I. <a href='#SimulatingOrbits'>Simulating orbits using Kepler's Laws</a>\n",
        "\n",
        "II. <a href='#InteractiveDerivation'>Kepler's Second Law Derivation</a>\n",
        "\n",
        "III.  <a href='#InteractiveDerivation'>Kepler's First Law Derivation (in part)</a>"
      ]
    },
    {
      "cell_type": "markdown",
      "metadata": {
        "id": "vNQyjP2W4SCM",
        "colab_type": "text"
      },
      "source": [
        "# <a id='#SimulatingOrbits'>Simulating Orbits Using Kepler's Laws</a>"
      ]
    },
    {
      "cell_type": "markdown",
      "metadata": {
        "id": "BjJm5acIn2Yi",
        "colab_type": "text"
      },
      "source": [
        "We will be using python to simulate orbits and investigate how changing the mass, separation, and eccentricity changes the shape of the orbit. Johannes Kepler (1571 – 1630) formulated three laws which describe planetary motion. They are:\n",
        "\n",
        "Kepler's Law #1: All planets move in elliptical orbits, with the sun at one focus. The place a planet resides at any time on it's orbit can be specified by the angle the planet makes from the semimajor axis. This angle is called the 'true anomaly'.\n",
        "\n",
        "Kepler's Law #2: A line that connects a planet to the sun sweeps out equal areas in equal times.\n",
        "\n",
        "Kepler's Law #3: The square of the period of any planet is proportional to the cube of the semimajor axis of its orbit.\n"
      ]
    },
    {
      "cell_type": "markdown",
      "metadata": {
        "id": "rbz8R8WMoz26",
        "colab_type": "text"
      },
      "source": [
        "First we will define all the physical constants:"
      ]
    },
    {
      "cell_type": "code",
      "metadata": {
        "id": "FdGXV0WnpCVo",
        "colab_type": "code",
        "colab": {}
      },
      "source": [
        "# CONSTANTS\n",
        "##############################################################################\n",
        "G = 6.67384*10**(-11.0)\n",
        "Msun = 1.9891*10**30.0\n",
        "seconds_in_day = 86400.0\n",
        "seconds_in_hour = 3600.0\n",
        "seconds_in_year = 3.15569*10**7.0\n",
        "day_in_year = 365.242\n",
        "hours_in_day = 24.0\n",
        "meters_in_AU = 1.496*10**11.0\n",
        "pi = np.pi"
      ],
      "execution_count": 0,
      "outputs": []
    },
    {
      "cell_type": "markdown",
      "metadata": {
        "id": "UdTEN1ECpIYo",
        "colab_type": "text"
      },
      "source": [
        "We also need some functions that we'll use to generate orbit data. We'll write our own functions in the future. For now, notice a few things about each function:\n",
        "\n",
        "1.   the function is named something useful, so you know what it will do\n",
        "2.   the function needs variables (the things inside the parentheses) to begin and returns variables at the end\n",
        "3.   the function should tell you what the physical units are for each variable\n",
        "\n",
        "A function in python is defined by the following general format:\n",
        "\n",
        "```\n",
        "def functionname(arg1, arg2, ...):\n",
        "    statement1\n",
        "    statement2\n",
        "    ...\n",
        "```\n",
        "\n",
        "\n"
      ]
    },
    {
      "cell_type": "code",
      "metadata": {
        "id": "2eJGwzvpqYNo",
        "colab_type": "code",
        "colab": {}
      },
      "source": [
        "#Apart from the assignment of the variable name to the value \"Hello, World!\" This is an example function that takes in user input and outputs\n",
        "\n",
        "def prints_message(some_variable):\n",
        "  print(some_variable)"
      ],
      "execution_count": 0,
      "outputs": []
    },
    {
      "cell_type": "code",
      "metadata": {
        "id": "jFObIH6Yq70H",
        "colab_type": "code",
        "outputId": "e4c3b729-d185-493c-ecdb-06f84a8f8ae4",
        "colab": {
          "base_uri": "https://localhost:8080/",
          "height": 34
        }
      },
      "source": [
        "#Try running the function and changing the input\n",
        "\n",
        "print_message(\"Hello, World!\")"
      ],
      "execution_count": 0,
      "outputs": [
        {
          "output_type": "stream",
          "text": [
            "Hello, World!\n"
          ],
          "name": "stdout"
        }
      ]
    },
    {
      "cell_type": "code",
      "metadata": {
        "id": "G1B4PFUGrS2Q",
        "colab_type": "code",
        "colab": {}
      },
      "source": [
        "#You can define a variable in one cell...\n",
        "message = \"This is a very important message\""
      ],
      "execution_count": 0,
      "outputs": []
    },
    {
      "cell_type": "code",
      "metadata": {
        "id": "4icsORcArS67",
        "colab_type": "code",
        "outputId": "7b115628-dbc0-4004-904a-066223c814be",
        "colab": {
          "base_uri": "https://localhost:8080/",
          "height": 34
        }
      },
      "source": [
        "#...and as long as you've run that cell, you can use that variable later:\n",
        "\n",
        "print_message(message)"
      ],
      "execution_count": 0,
      "outputs": [
        {
          "output_type": "stream",
          "text": [
            "This is a very important message\n"
          ],
          "name": "stdout"
        }
      ]
    },
    {
      "cell_type": "markdown",
      "metadata": {
        "id": "UWZLejQDztjd",
        "colab_type": "text"
      },
      "source": [
        "\n",
        "\n",
        "---\n",
        "\n",
        "\n",
        "Your turn. Try making any simple function you'd like incorporating math and printing and run it. \n",
        "\n",
        "\n",
        "\n"
      ]
    },
    {
      "cell_type": "code",
      "metadata": {
        "id": "_7lfEXXrzywp",
        "colab_type": "code",
        "colab": {}
      },
      "source": [
        "#Define your function here"
      ],
      "execution_count": 0,
      "outputs": []
    },
    {
      "cell_type": "code",
      "metadata": {
        "id": "lnjJ003Kzy5i",
        "colab_type": "code",
        "colab": {}
      },
      "source": [
        "#Run it here"
      ],
      "execution_count": 0,
      "outputs": []
    },
    {
      "cell_type": "markdown",
      "metadata": {
        "id": "aNrYEmIk-NOx",
        "colab_type": "text"
      },
      "source": [
        "\n",
        "\n",
        "---\n",
        "\n"
      ]
    },
    {
      "cell_type": "markdown",
      "metadata": {
        "id": "t5AO_pNIp3j1",
        "colab_type": "text"
      },
      "source": [
        "Back to Kepler: We'll use the following functions to generate orbits for several different scenarios. The first two functions use Kepler's third law to convert between separation and orbital period. The third equation solves for every point on an orbit; this can be used to graph the orbit. Look and understand what these functions do."
      ]
    },
    {
      "cell_type": "code",
      "metadata": {
        "id": "mZMhSuV2pR5t",
        "colab_type": "code",
        "colab": {}
      },
      "source": [
        "def keplerIII_period_to_separation(p_orb):\n",
        "    #########################################################\n",
        "    # Units: orbital period [yr], separation [au]           #\n",
        "    #########################################################\n",
        "    sep_cubed = p_orb**2\n",
        "    sep = sep_cubed**(1./3.)\n",
        "    \n",
        "    return sep"
      ],
      "execution_count": 0,
      "outputs": []
    },
    {
      "cell_type": "code",
      "metadata": {
        "id": "9r80ZmtmsJJ8",
        "colab_type": "code",
        "colab": {}
      },
      "source": [
        "def keplerIII_separation_to_period(sep):\n",
        "    #########################################################\n",
        "    # Units: orbital period [yr], separation [au]           #\n",
        "    #########################################################\n",
        "    p_orb_squared = sep**3\n",
        "    p_orb = p_orb_squared**(1./2.)\n",
        "    \n",
        "    return p_orb"
      ],
      "execution_count": 0,
      "outputs": []
    },
    {
      "cell_type": "code",
      "metadata": {
        "id": "1nlimvfzsO63",
        "colab_type": "code",
        "colab": {}
      },
      "source": [
        "def make_kepler_orbit(e,p_orb):\n",
        "    ###################################################################################\n",
        "    # Units: orbital period [years]                                                   #\n",
        "    ###################################################################################    \n",
        "    nStep = 500.0\n",
        "    tRange = np.linspace(0,p_orb,nStep)\n",
        "    \n",
        "    theta = []\n",
        "    for time in tRange:\n",
        "        nHalfPorb = int(2*(time-1)/p_orb)\n",
        "        PsiDiff = 1\n",
        "        M = 2*np.pi*time/p_orb\n",
        "        PsiOld = M\n",
        "        theta0old = 180.0\n",
        "        while PsiDiff > 1e-10:\n",
        "        #print PsiDiff, PsiOld, e*math.sin(PsiOld)\n",
        "            PsiNew = M + e*np.sin(PsiOld)\n",
        "            PsiDiff = PsiNew-PsiOld\n",
        "            PsiOld = PsiNew\n",
        "        theta0 = 2*np.arctan(((1+e)/(1-e))**(0.5)*np.tan(PsiOld/2.))\n",
        "        theta.append(theta0)        \n",
        "    return theta"
      ],
      "execution_count": 0,
      "outputs": []
    },
    {
      "cell_type": "markdown",
      "metadata": {
        "id": "T4Agqn89yw7S",
        "colab_type": "text"
      },
      "source": [
        "Notice if you don't know what some built in function does you can look it up in the documentation. For example, here is the page for the '''linspace''' function: https://docs.scipy.org/doc/numpy/reference/generated/numpy.linspace.html (or you can google it)"
      ]
    },
    {
      "cell_type": "markdown",
      "metadata": {
        "id": "SkfLR8mexUxB",
        "colab_type": "text"
      },
      "source": [
        "---\n",
        "\n",
        "QUESTION: Go through the make_kepler_orbit function line by line to understand and write out what each line does and translate it into \"psuedocode\" in the text cell below, i.e. write it out in plain english (math symbols are ok). After you're done, summarize what is happening overall.\n",
        "\n"
      ]
    },
    {
      "cell_type": "markdown",
      "metadata": {
        "id": "Z43rA5c0ye0c",
        "colab_type": "text"
      },
      "source": [
        "Psuedocode version of make_kepler_orbit:\n",
        "\n",
        "Summary of the overall function of make_kepler_orbit:\n",
        "\n",
        "---"
      ]
    },
    {
      "cell_type": "markdown",
      "metadata": {
        "id": "vDUTBxjFsTd4",
        "colab_type": "text"
      },
      "source": [
        "First, let's simulate the Earth's orbit. To do this, we need to specify all of the variables used in the 'make_kepler_orbit' function. Taking note of the units, let's fill in the mass, orbital period and eccentricity."
      ]
    },
    {
      "cell_type": "code",
      "metadata": {
        "id": "sK9gSKGxsbU9",
        "colab_type": "code",
        "colab": {}
      },
      "source": [
        "orbital_period = 1.0\n",
        "eccentricity = 0.02"
      ],
      "execution_count": 0,
      "outputs": []
    },
    {
      "cell_type": "code",
      "metadata": {
        "id": "xQpDlSKisS7G",
        "colab_type": "code",
        "outputId": "b5f2a658-103b-4f5d-8e40-5fc066a26327",
        "colab": {
          "base_uri": "https://localhost:8080/",
          "height": 52
        }
      },
      "source": [
        "#Run the program make_kepler_orbit\n",
        "list1 = make_kepler_orbit(eccentricity,orbital_period)"
      ],
      "execution_count": 0,
      "outputs": [
        {
          "output_type": "stream",
          "text": [
            "/usr/local/lib/python3.6/dist-packages/ipykernel_launcher.py:6: DeprecationWarning: object of type <class 'float'> cannot be safely interpreted as an integer.\n",
            "  \n"
          ],
          "name": "stderr"
        }
      ]
    },
    {
      "cell_type": "code",
      "metadata": {
        "id": "JdJwQysUxJ_F",
        "colab_type": "code",
        "outputId": "f49fc4e4-007a-41af-ad34-5c62eb4db8c8",
        "colab": {
          "base_uri": "https://localhost:8080/",
          "height": 1000
        }
      },
      "source": [
        "#shows you what the value of the variable named list1 is. It's long but will appear in a scrolling window\n",
        "list1"
      ],
      "execution_count": 0,
      "outputs": [
        {
          "output_type": "execute_result",
          "data": {
            "text/plain": [
              "[0.0,\n",
              " 0.013108101854151075,\n",
              " 0.026216115388514753,\n",
              " 0.039323952304207634,\n",
              " 0.052431524332673375,\n",
              " 0.0655387432664161,\n",
              " 0.07864552097002453,\n",
              " 0.09175176940019761,\n",
              " 0.10485740062409707,\n",
              " 0.11796232683766214,\n",
              " 0.13106646038388045,\n",
              " 0.14416971377100837,\n",
              " 0.15727199969073527,\n",
              " 0.1703732310362848,\n",
              " 0.18347332092044805,\n",
              " 0.1965721826935415,\n",
              " 0.20966972996128422,\n",
              " 0.2227658766025891,\n",
              " 0.23586053678726052,\n",
              " 0.2489536249935945,\n",
              " 0.26204505602587386,\n",
              " 0.275134745031754,\n",
              " 0.28822260751953305,\n",
              " 0.301308559375301,\n",
              " 0.3143925168799615,\n",
              " 0.32747439672612316,\n",
              " 0.34055411603485175,\n",
              " 0.3536315923722813,\n",
              " 0.36670674376607637,\n",
              " 0.3797794887217426,\n",
              " 0.39284974623877855,\n",
              " 0.4059174358266654,\n",
              " 0.4189824775206896,\n",
              " 0.43204479189759276,\n",
              " 0.4451043000910454,\n",
              " 0.4581609238069399,\n",
              " 0.47121458533849725,\n",
              " 0.48426520758118574,\n",
              " 0.4973127140474436,\n",
              " 0.5103570288812065,\n",
              " 0.5233980768722313,\n",
              " 0.5364357834702164,\n",
              " 0.549470074798711,\n",
              " 0.5625008776688145,\n",
              " 0.5755281195926565,\n",
              " 0.5885517287966613,\n",
              " 0.6015716342345878,\n",
              " 0.6145877656003446,\n",
              " 0.6276000533405763,\n",
              " 0.6406084286670217,\n",
              " 0.653612823568634,\n",
              " 0.6666131708234669,\n",
              " 0.6796094040103245,\n",
              " 0.6926014575201666,\n",
              " 0.705589266567273,\n",
              " 0.7185727672001633,\n",
              " 0.7315518963122698,\n",
              " 0.7445265916523609,\n",
              " 0.7574967918347156,\n",
              " 0.770462436349047,\n",
              " 0.7834234655701707,\n",
              " 0.7963798207674223,\n",
              " 0.8093314441138172,\n",
              " 0.822278278694956,\n",
              " 0.835220268517671,\n",
              " 0.8481573585184181,\n",
              " 0.8610894945714083,\n",
              " 0.8740166234964803,\n",
              " 0.8869386930667165,\n",
              " 0.8998556520157962,\n",
              " 0.9127674500450941,\n",
              " 0.9256740378305146,\n",
              " 0.9385753670290714,\n",
              " 0.9514713902852047,\n",
              " 0.9643620612368424,\n",
              " 0.9772473345212015,\n",
              " 0.9901271657803331,\n",
              " 1.003001511666411,\n",
              " 1.015870329846762,\n",
              " 1.0287335790086445,\n",
              " 1.0415912188637697,\n",
              " 1.0544432101525727,\n",
              " 1.0672895146482293,\n",
              " 1.0801300951604242,\n",
              " 1.0929649155388688,\n",
              " 1.1057939406765727,\n",
              " 1.1186171365128668,\n",
              " 1.131434470036184,\n",
              " 1.1442459092857307,\n",
              " 1.157051423357354,\n",
              " 1.1698509824000738,\n",
              " 1.182644557621706,\n",
              " 1.1954321212894645,\n",
              " 1.2082136467313147,\n",
              " 1.2209891083370932,\n",
              " 1.2337584815594025,\n",
              " 1.2465217429142763,\n",
              " 1.2592788699816242,\n",
              " 1.2720298414054505,\n",
              " 1.284774636893858,\n",
              " 1.2975132372188343,\n",
              " 1.3102456242158227,\n",
              " 1.322971780783084,\n",
              " 1.3356916908808485,\n",
              " 1.3484053395302615,\n",
              " 1.3611127128121285,\n",
              " 1.3738137978654554,\n",
              " 1.3865085828857984,\n",
              " 1.3991970571234096,\n",
              " 1.4118792108812002,\n",
              " 1.4245550355125107,\n",
              " 1.4372245234186938,\n",
              " 1.449887668046517,\n",
              " 1.4625444638853855,\n",
              " 1.4751949064643872,\n",
              " 1.4878389923491628,\n",
              " 1.5004767191386086,\n",
              " 1.513108085461277,\n",
              " 1.525733090972333,\n",
              " 1.5383517363487562,\n",
              " 1.5509640232861701,\n",
              " 1.5635699544944994,\n",
              " 1.576169533693715,\n",
              " 1.5887627656094219,\n",
              " 1.6013496559213987,\n",
              " 1.6139302090620482,\n",
              " 1.626504432557439,\n",
              " 1.6390723351203484,\n",
              " 1.6516339264489832,\n",
              " 1.6641892172217019,\n",
              " 1.6767382190916176,\n",
              " 1.6892809446810608,\n",
              " 1.7018174075759207,\n",
              " 1.7143476223198613,\n",
              " 1.7268716044084156,\n",
              " 1.7393893702829637,\n",
              " 1.751900937324597,\n",
              " 1.7644063238478664,\n",
              " 1.7769055490944294,\n",
              " 1.7893986332265848,\n",
              " 1.8018855973207075,\n",
              " 1.8143664633605867,\n",
              " 1.826841254230662,\n",
              " 1.8393099937091695,\n",
              " 1.851772706461196,\n",
              " 1.8642294180316468,\n",
              " 1.8766801548381247,\n",
              " 1.889124944163731,\n",
              " 1.9015638141497853,\n",
              " 1.9139967937884663,\n",
              " 1.9264239129153835,\n",
              " 1.9388452022020735,\n",
              " 1.951260693148427,\n",
              " 1.9636704180750566,\n",
              " 1.9760744101155905,\n",
              " 1.9884727032089138,\n",
              " 2.0008653320913496,\n",
              " 2.013252332288779,\n",
              " 2.0256337401087166,\n",
              " 2.0380095926323243,\n",
              " 2.050379927706387,\n",
              " 2.0627447839352313,\n",
              " 2.07510420067261,\n",
              " 2.087458218013537,\n",
              " 2.099806876786084,\n",
              " 2.112150218543143,\n",
              " 2.1244882855541505,\n",
              " 2.1368211207967747,\n",
              " 2.1491487679485815,\n",
              " 2.1614712713786575,\n",
              " 2.173788676139213,\n",
              " 2.186101027957164,\n",
              " 2.1984083732256754,\n",
              " 2.2107107589956976,\n",
              " 2.223008232967473,\n",
              " 2.2353008434820274,\n",
              " 2.247588639512642,\n",
              " 2.2598716706563127,\n",
              " 2.272149987125194,\n",
              " 2.2844236397380286,\n",
              " 2.2966926799115686,\n",
              " 2.308957159651988,\n",
              " 2.3212171315462804,\n",
              " 2.3334726487536592,\n",
              " 2.345723764996943,\n",
              " 2.3579705345539463,\n",
              " 2.370213012248854,\n",
              " 2.382451253443608,\n",
              " 2.3946853140292834,\n",
              " 2.4069152504174656,\n",
              " 2.4191411195316332,\n",
              " 2.431362978798539,\n",
              " 2.443580886139593,\n",
              " 2.455794899962254,\n",
              " 2.4680050791514216,\n",
              " 2.480211483060832,\n",
              " 2.4924141715044685,\n",
              " 2.50461320474797,\n",
              " 2.516808643500048,\n",
              " 2.5290005489039205,\n",
              " 2.541188982528743,\n",
              " 2.553374006361054,\n",
              " 2.5655556827962354,\n",
              " 2.577734074629974,\n",
              " 2.5899092450497383,\n",
              " 2.6020812576262666,\n",
              " 2.6142501763050694,\n",
              " 2.6264160653979336,\n",
              " 2.638578989574453,\n",
              " 2.650739013853558,\n",
              " 2.662896203595066,\n",
              " 2.675050624491242,\n",
              " 2.6872023425583724,\n",
              " 2.699351424128352,\n",
              " 2.71149793584028,\n",
              " 2.7236419446320803,\n",
              " 2.7357835177321195,\n",
              " 2.747922722650852,\n",
              " 2.76005962717247,\n",
              " 2.7721942993465687,\n",
              " 2.784326807479826,\n",
              " 2.796457220127694,\n",
              " 2.8085856060861003,\n",
              " 2.8207120343831678,\n",
              " 2.8328365742709427,\n",
              " 2.8449592952171363,\n",
              " 2.8570802668968756,\n",
              " 2.8691995591844703,\n",
              " 2.8813172421451907,\n",
              " 2.8934333860270476,\n",
              " 2.9055480612526,\n",
              " 2.9176613384107557,\n",
              " 2.9297732882485925,\n",
              " 2.941883981663187,\n",
              " 2.953993489693451,\n",
              " 2.966101883511976,\n",
              " 2.9782092344168904,\n",
              " 2.99031561382372,\n",
              " 3.002421093257259,\n",
              " 3.014525744343447,\n",
              " 3.0266296388012526,\n",
              " 3.038732848434562,\n",
              " 3.050835445124077,\n",
              " 3.062937500819213,\n",
              " 3.0750390875300053,\n",
              " 3.0871402773190173,\n",
              " 3.099241142293255,\n",
              " 3.1113417545960798,\n",
              " 3.1234421863991297,\n",
              " 3.135542509894236,\n",
              " -3.1355449782691704,\n",
              " -3.123449590004031,\n",
              " -3.111354088872157,\n",
              " -3.0992583996455405,\n",
              " -3.0871624471208916,\n",
              " -3.0750661561295263,\n",
              " -3.062969451547251,\n",
              " -3.0508722583042482,\n",
              " -3.0387745013949505,\n",
              " -3.0266761058879226,\n",
              " -3.014576996935736,\n",
              " -3.002477099784835,\n",
              " -2.9903763397854046,\n",
              " -2.9782746424012343,\n",
              " -2.9661719332195693,\n",
              " -2.9540681379609626,\n",
              " -2.941963182489121,\n",
              " -2.9298569928207394,\n",
              " -2.917749495135331,\n",
              " -2.905640615785054,\n",
              " -2.8935302813045194,\n",
              " -2.8814184184206013,\n",
              " -2.869304954062232,\n",
              " -2.857189815370188,\n",
              " -2.845072929706867,\n",
              " -2.8329542246660546,\n",
              " -2.820833628082676,\n",
              " -2.80871106804254,\n",
              " -2.7965864728920677,\n",
              " -2.7844597712480113,\n",
              " -2.7723308920071537,\n",
              " -2.760199764355999,\n",
              " -2.7480663177804496,\n",
              " -2.735930482075455,\n",
              " -2.7237921873546647,\n",
              " -2.7116513640600464,\n",
              " -2.6995079429714957,\n",
              " -2.687361855216426,\n",
              " -2.6752130322793373,\n",
              " -2.663061406011369,\n",
              " -2.65090690863983,\n",
              " -2.6387494727777083,\n",
              " -2.626589031433156,\n",
              " -2.6144255180189604,\n",
              " -2.60225886636198,\n",
              " -2.5900890107125636,\n",
              " -2.5779158857539453,\n",
              " -2.5657394266116103,\n",
              " -2.553559568862631,\n",
              " -2.5413762485449864,\n",
              " -2.529189402166842,\n",
              " -2.516998966715804,\n",
              " -2.5048048796681472,\n",
              " -2.492607078998007,\n",
              " -2.4804055031865384,\n",
              " -2.4682000912310498,\n",
              " -2.4559907826540908,\n",
              " -2.443777517512517,\n",
              " -2.431560236406509,\n",
              " -2.4193388804885605,\n",
              " -2.407113391472425,\n",
              " -2.3948837116420223,\n",
              " -2.382649783860313,\n",
              " -2.3704115515781154,\n",
              " -2.3581689588428962,\n",
              " -2.3459219503075075,\n",
              " -2.3336704712388827,\n",
              " -2.3214144675266835,\n",
              " -2.3091538856919023,\n",
              " -2.2968886728954128,\n",
              " -2.2846187769464743,\n",
              " -2.272344146311183,\n",
              " -2.260064730120867,\n",
              " -2.2477804781804345,\n",
              " -2.235491340976663,\n",
              " -2.2231972696864273,\n",
              " -2.210898216184879,\n",
              " -2.198594133053564,\n",
              " -2.1862849735884677,\n",
              " -2.1739706918080164,\n",
              " -2.1616512424610015,\n",
              " -2.1493265810344413,\n",
              " -2.1369966637613795,\n",
              " -2.1246614476286183,\n",
              " -2.1123208903843613,\n",
              " -2.099974950545819,\n",
              " -2.0876235874067115,\n",
              " -2.0752667610447086,\n",
              " -2.0629044323287977,\n",
              " -2.0505365629265664,\n",
              " -2.0381631153114053,\n",
              " -2.0257840527696387,\n",
              " -2.013399339407563,\n",
              " -2.0010089401584032,\n",
              " -1.9886128207891853,\n",
              " -1.9762109479075223,\n",
              " -1.963803288968301,\n",
              " -1.951389812280289,\n",
              " -1.938970487012643,\n",
              " -1.9265452832013168,\n",
              " -1.9141141717553853,\n",
              " -1.9016771244632573,\n",
              " -1.8892341139987927,\n",
              " -1.8767851139273208,\n",
              " -1.864330098711547,\n",
              " -1.8518690437173584,\n",
              " -1.8394019252195202,\n",
              " -1.826928720407266,\n",
              " -1.81444940738976,\n",
              " -1.8019639652014758,\n",
              " -1.7894723738074276,\n",
              " -1.776974614108303,\n",
              " -1.764470667945472,\n",
              " -1.7519605181058724,\n",
              " -1.7394441483267753,\n",
              " -1.7269215433004235,\n",
              " -1.7143926886785361,\n",
              " -1.701857571076701,\n",
              " -1.6893161780786223,\n",
              " -1.6767684982402316,\n",
              " -1.6642145210936823,\n",
              " -1.6516542371511873,\n",
              " -1.6390876379087318,\n",
              " -1.6265147158496347,\n",
              " -1.613935464447982,\n",
              " -1.6013498781718964,\n",
              " -1.5887579524866753,\n",
              " -1.5761596838577787,\n",
              " -1.5635550697536582,\n",
              " -1.5509441086484423,\n",
              " -1.5383268000244679,\n",
              " -1.5257031443746478,\n",
              " -1.5130731432046904,\n",
              " -1.5004367990351548,\n",
              " -1.4877941154033443,\n",
              " -1.4751450968650366,\n",
              " -1.4624897489960567,\n",
              " -1.4498280783936695,\n",
              " -1.4371600926778176,\n",
              " -1.424485800492184,\n",
              " -1.4118052115050743,\n",
              " -1.3991183364101438,\n",
              " -1.3864251869269388,\n",
              " -1.373725775801252,\n",
              " -1.3610201168053253,\n",
              " -1.3483082247378493,\n",
              " -1.3355901154237895,\n",
              " -1.322865805714036,\n",
              " -1.3101353134848641,\n",
              " -1.2973986576372034,\n",
              " -1.2846558580957332,\n",
              " -1.2719069358077821,\n",
              " -1.2591519127420348,\n",
              " -1.24639081188706,\n",
              " -1.2336236572496333,\n",
              " -1.2208504738528767,\n",
              " -1.208071287734199,\n",
              " -1.1952861259430465,\n",
              " -1.1824950165384485,\n",
              " -1.1696979885863752,\n",
              " -1.1568950721568962,\n",
              " -1.1440862983211313,\n",
              " -1.1312716991480123,\n",
              " -1.1184513077008422,\n",
              " -1.105625158033647,\n",
              " -1.0927932851873343,\n",
              " -1.0799557251856449,\n",
              " -1.0671125150308998,\n",
              " -1.0542636926995512,\n",
              " -1.0414092971375235,\n",
              " -1.028549368255348,\n",
              " -1.0156839469231063,\n",
              " -1.0028130749651514,\n",
              " -0.9899367951546392,\n",
              " -0.9770551512078482,\n",
              " -0.9641681877782924,\n",
              " -0.9512759504506364,\n",
              " -0.9383784857344033,\n",
              " -0.9254758410574722,\n",
              " -0.912568064759381,\n",
              " -0.8996552060844221,\n",
              " -0.8867373151745276,\n",
              " -0.8738144430619681,\n",
              " -0.8608866416618296,\n",
              " -0.8479539637643027,\n",
              " -0.8350164630267668,\n",
              " -0.8220741939656733,\n",
              " -0.8091272119482276,\n",
              " -0.7961755731838771,\n",
              " -0.7832193347156018,\n",
              " -0.770258554411003,\n",
              " -0.7572932909532015,\n",
              " -0.7443236038315421,\n",
              " -0.7313495533321032,\n",
              " -0.7183712005280151,\n",
              " -0.705388607269594,\n",
              " -0.6924018361742769,\n",
              " -0.6794109506163831,\n",
              " -0.6664160147166823,\n",
              " -0.6534170933317793,\n",
              " -0.6404142520433225,\n",
              " -0.627407557147031,\n",
              " -0.6143970756415422,\n",
              " -0.6013828752170874,\n",
              " -0.5883650242439924,\n",
              " -0.5753435917610086,\n",
              " -0.562318647463475,\n",
              " -0.5492902616913151,\n",
              " -0.5362585054168667,\n",
              " -0.5232234502325575,\n",
              " -0.5101851683384153,\n",
              " -0.49714373252942584,\n",
              " -0.48409921618273816,\n",
              " -0.4710516932447182,\n",
              " -0.4580012382178545,\n",
              " -0.4449479261475243,\n",
              " -0.43189183260861386,\n",
              " -0.41883303369199665,\n",
              " -0.4057716059908909,\n",
              " -0.3927076265870696,\n",
              " -0.37964117303694805,\n",
              " -0.3665723233575509,\n",
              " -0.35350115601235416,\n",
              " -0.34042774989700064,\n",
              " -0.327352184324916,\n",
              " -0.3142745390128028,\n",
              " -0.3011948940660295,\n",
              " -0.28811332996391825,\n",
              " -0.27502992754492916,\n",
              " -0.26194476799174743,\n",
              " -0.24885793281628824,\n",
              " -0.2357695038445958,\n",
              " -0.22267956320167245,\n",
              " -0.20958819329622067,\n",
              " -0.1964954768053082,\n",
              " -0.18340149665896358,\n",
              " -0.17030633602470285,\n",
              " -0.15721007829198463,\n",
              " -0.14411280705661458,\n",
              " -0.13101460610509058,\n",
              " -0.11791555939889585,\n",
              " -0.10481575105873794,\n",
              " -0.09171526534875507,\n",
              " -0.07861418666068114,\n",
              " -0.0655125994979628,\n",
              " -0.05241058845986723,\n",
              " -0.03930823822555026,\n",
              " -0.026205633538097614,\n",
              " -0.013102859188567307,\n",
              " -2.4987792761014037e-16]"
            ]
          },
          "metadata": {
            "tags": []
          },
          "execution_count": 33
        }
      ]
    },
    {
      "cell_type": "markdown",
      "metadata": {
        "id": "EsI52ZnFzSyG",
        "colab_type": "text"
      },
      "source": [
        "The true anomaly is the angle between the line from the focus to the planet and the line from focus to the planet's closest approach to the object it is orbiting. The true anomaly is shown as $\\theta$ in the image below.\n",
        "\n",
        "![angle of true anomaly](http://sat.belastro.net/satelliteorbitdetermination.com/Orbit1.gif)\n",
        "\n"
      ]
    },
    {
      "cell_type": "markdown",
      "metadata": {
        "id": "6o_WIcueBAau",
        "colab_type": "text"
      },
      "source": [
        "To make plots, we need to be able to specify the x and y position of each true anomaly value. This is done using the kepler shape equation:\n",
        "\n",
        "\n",
        "\n",
        "In the shape equation, theta is the true_anomaly.\n",
        "\n",
        "The function below, orbit, computes the x and y values from the shape equation and returns them as xorbit and yorbit. We can use these x and y values to make a scatter plot of the orbit.\n"
      ]
    },
    {
      "cell_type": "code",
      "metadata": {
        "id": "CYfBtyIezbjz",
        "colab_type": "code",
        "colab": {}
      },
      "source": [
        "def orbit(sep,e,true_anomaly): \n",
        "    ##############################################\n",
        "    # Units: separation [same as units supplied] #\n",
        "    ##############################################\n",
        "    \n",
        "    # define the shape equation\n",
        "    rorbit = sep*(1 - e**2)/(1 + e*np.cos(true_anomaly))\n",
        "    xorbit = rorbit*np.cos(true_anomaly)\n",
        "    yorbit = rorbit*np.sin(true_anomaly)\n",
        "     \n",
        "    \n",
        "    return xorbit,yorbit"
      ],
      "execution_count": 0,
      "outputs": []
    },
    {
      "cell_type": "markdown",
      "metadata": {
        "id": "2ryYfl6qziF1",
        "colab_type": "text"
      },
      "source": [
        "Notice that the orbit function needs the separation. Call (run) the needed function \n",
        "\n"
      ]
    },
    {
      "cell_type": "code",
      "metadata": {
        "id": "kj91qVPb1dd2",
        "colab_type": "code",
        "colab": {}
      },
      "source": [
        ""
      ],
      "execution_count": 0,
      "outputs": []
    },
    {
      "cell_type": "markdown",
      "metadata": {
        "id": "h4MzXqF31Ow4",
        "colab_type": "text"
      },
      "source": [
        "Now that we have the separation, we can call the orbit function. The orbit function needs the separation, eccentricity and true anomaly to run. Remember that the true anomaly is returned by the make_kepler_orbit function."
      ]
    },
    {
      "cell_type": "code",
      "metadata": {
        "id": "XOuip1fV1a9y",
        "colab_type": "code",
        "colab": {}
      },
      "source": [
        "xOrbit, yOrbit = orbit(sep,eccentricity,list1)"
      ],
      "execution_count": 0,
      "outputs": []
    },
    {
      "cell_type": "markdown",
      "metadata": {
        "id": "TslMy0dH2E1J",
        "colab_type": "text"
      },
      "source": [
        "Thanks to the orbit function, we can now plot our xorbit and yorbit values. Notice that we set: plt.axis('equal'); this makes the plot use the same size for the x and y axes. "
      ]
    },
    {
      "cell_type": "code",
      "metadata": {
        "id": "AEHeYbKu2TGu",
        "colab_type": "code",
        "outputId": "36a7f5e1-8930-4bdc-9f8c-cdcc8bfb317a",
        "colab": {
          "base_uri": "https://localhost:8080/",
          "height": 295
        }
      },
      "source": [
        "plt.title('Earth orbit')\n",
        "# The Sun is located at the origin.\n",
        "plt.scatter(0,0, color='orange')\n",
        "plt.scatter(xOrbit,yOrbit)\n",
        "plt.axis('equal')\n",
        "plt.xlabel('x position [au]')\n",
        "plt.ylabel('y position [au]')\n",
        "plt.show()\n"
      ],
      "execution_count": 0,
      "outputs": [
        {
          "output_type": "display_data",
          "data": {
            "image/png": "[encoded data removed]",
            "text/plain": [
              "<Figure size 432x288 with 1 Axes>"
            ]
          },
          "metadata": {
            "tags": []
          }
        }
      ]
    },
    {
      "cell_type": "markdown",
      "metadata": {
        "id": "GdUYdI0o2Lhr",
        "colab_type": "text"
      },
      "source": [
        "---\n",
        "QUESTION: Try commenting out the line that makes the axes equal by typing a '#' sign on the front part of the line. What happens to the orbit of the Earth? Why is this misleading?\n",
        "\n",
        "---"
      ]
    },
    {
      "cell_type": "markdown",
      "metadata": {
        "id": "IraauvH32fPd",
        "colab_type": "text"
      },
      "source": [
        "Now that we know how to make Earth's orbit, we can make orbits for any of the planets in the Solar System on a single plot! We'll need to know the mass of the planet in units of solar mass, its orbital period in years, and its ``\n",
        "```\n",
        "Planet = Mercury, Mass = 1.7 × 10^(-7) solar mass, orbital period = 0.48 years, eccentricity = 0.21\n",
        "Planet = Venus, Mass = 2.6 × 10^(-6) solar mass, orbital period = 0.62 years, eccentricity = 0.01\n",
        "Planet = Mars, Mass = 3.2 × 10^(-7) solar mass, orbital period = 1.88 years, eccentricity = 0.09\n",
        "Planet = Jupiter, Mass = 9.5 × 10^(-4) solar mass, orbital period = 11.86 years, eccentricity = 0.05\n",
        "Planet = Saturn, Mass = 2.9 × 10^(-4) solar mass, orbital period = 29.46 years, eccentricity = 0.05\n",
        "Planet = Uranus, Mass = 4.5 × 10^(-5) solar mass, orbital period =84.02 years, eccentricity = 0.05\n",
        "Planet = Neptune, Mass = 5.2 × 10^(-5) solar mass, orbital period = 164.8 years, eccentricity = 0.01\n",
        "Planet = Pluto, Mass = 6.6 × 10^(-9) solar mass, orbital period = 248.0 years, eccentricity = 0.25\n",
        "```\n"
      ]
    },
    {
      "cell_type": "code",
      "metadata": {
        "id": "p38doomC23wj",
        "colab_type": "code",
        "colab": {}
      },
      "source": [
        "# Define Mercury's parameters in this cell. Name them something useful, specific, and different than any other variables we've used in this notebook so far\n",
        "#note we don't need to redefine the mass of the Sun since we already defined it above"
      ],
      "execution_count": 0,
      "outputs": []
    },
    {
      "cell_type": "code",
      "metadata": {
        "id": "XPSnClz3252o",
        "colab_type": "code",
        "colab": {}
      },
      "source": [
        "# compute Mercury's true anomaly"
      ],
      "execution_count": 0,
      "outputs": []
    },
    {
      "cell_type": "code",
      "metadata": {
        "id": "oDyndu5a29-S",
        "colab_type": "code",
        "colab": {}
      },
      "source": [
        "# compute Mercury's separation"
      ],
      "execution_count": 0,
      "outputs": []
    },
    {
      "cell_type": "code",
      "metadata": {
        "id": "FVV9HTqw3BIt",
        "colab_type": "code",
        "colab": {}
      },
      "source": [
        "# compute Mercury's x and y orbital coordinates"
      ],
      "execution_count": 0,
      "outputs": []
    },
    {
      "cell_type": "code",
      "metadata": {
        "id": "hgXQ6FHy3Oi2",
        "colab_type": "code",
        "colab": {}
      },
      "source": [
        "# Plot Mercury's orbit"
      ],
      "execution_count": 0,
      "outputs": []
    },
    {
      "cell_type": "markdown",
      "metadata": {
        "id": "tG_9_fJAXbt2",
        "colab_type": "text"
      },
      "source": [
        "# <a id='#InteractiveDerivation'>Kepler's Second Law</a>"
      ]
    },
    {
      "cell_type": "markdown",
      "metadata": {
        "id": "qPq677haXewG",
        "colab_type": "text"
      },
      "source": [
        "Let's convince ourselves that Kepler's second law is just [conservation of angular momentum](https://www.khanacademy.org/science/ap-physics-1/ap-torque-angular-momentum/conservation-of-angular-momentum-ap/a/conservation-of-angular-momentum-ap-physics-1) in disguise.\n",
        "\n",
        "Kepler's second law, states an orbiter sweeps out equal area in equal time. Another way to write this is\n",
        "\n",
        "$\\frac{dA}{dt} = Constant$\n",
        "\n",
        "We also know that because angular momentum, $L$ is conserved, \n",
        "\n",
        "$L = Constant$\n",
        "\n",
        "Reminding ourselves of the definition of angular momentum, we can write $\\hat{L}$ in terms of the the Sun to planet vector $\\hat{r}$ and linear momentum $\\hat{p}$\n",
        "\n",
        "$\\hat{L} = \\hat{r} x \\hat{p}$\n",
        "\n",
        "The definition of cross product gives us\n",
        "\n",
        "$\\hat{L} = r\\hat{p}_{\\perp}$\n",
        "\n",
        "And the definition of momentum $\\hat{p} = mv$ gives us\n",
        "\n",
        "$\\hat{L} = rm\\hat{v}_{\\perp}$\n",
        "\n",
        "$L = rm(\\omega r) = mr^{2}\\omega$\n",
        "\n",
        "Now for something different, let's consider the area swept out in a time dt\n",
        "\n",
        "$ds$ is the tiny arc along the orbit that the planet travels while it moves a tiny angle $d\\theta$ around the orbit. The length of an arc is the radius times the angle it subtends, so\n",
        "\n",
        "$ds = rd\\theta$\n",
        "\n",
        "![alt text](https://physicsabout.com/wp-content/uploads/2016/07/kepler-2nd-law.png)\n",
        "\n",
        "The area swept out by this motion, $dA$, is given by the area of a triangle\n",
        "\n",
        "$dA = \\frac{1}{2}r(rd\\theta) = \\frac{1}{2}r^{2}d\\theta$\n",
        "\n",
        "Going back to our original goal, what we really want is the change in area over time $\\frac{dA}{dt}$\n",
        "\n",
        "\n",
        "$\\frac{dA}{dt} = \\frac{1}{2}r^{2}\\frac{d\\theta}{dt} = \\frac{1}{2}r^{2}\\omega$\n",
        "\n",
        "Looking up at our earlier work, we find that we can easily go from \n",
        "\n",
        "$L = rm(\\omega r) = mr^{2}\\omega$ to\n",
        "\n",
        "$\\frac{L}{m} = r^{2}\\omega$\n",
        "\n",
        "plugging in to our expression for $\\frac{dA}{dt}$\n",
        "\n",
        "\n",
        "$\\frac{dA}{dt} = \\frac{1}{2}\\frac{L}{m}$\n",
        "\n",
        "Since angular momentum is conserved, the area over time is also constant.\n"
      ]
    },
    {
      "cell_type": "markdown",
      "metadata": {
        "id": "v3MDuN4X44T9",
        "colab_type": "text"
      },
      "source": [
        "# <a id='#InteractiveDerivation'>Kepler's First Law Derivation (in part)</a>"
      ]
    },
    {
      "cell_type": "markdown",
      "metadata": {
        "id": "pl-e6U1b7v7a",
        "colab_type": "text"
      },
      "source": [
        "We are going to derive Kepler's law. \n",
        "\n",
        "$\\hat{r}$ will be the radial [unit vector](https://mathworld.wolfram.com/UnitVector.html) from the origin, $\\hat{x}$ and $\\hat{y}$ are the unit vectors along the x and y axis (cartesian axis). Because this is the real world, we can't assume that the distance from the origin to our orbiter remains constant because it may not be on a circular orbit. If $\\vec{r}$ is the vector from the origin to the object, our vector from the origin to the orbiter will change in length and direction as we move along the orbit, or move in $\\theta$. This means we will have a change in radius as we change the angle, which can be written $\\frac{d\\vec{r}}{d\\theta}$. We would like to find the value of $\\frac{d\\vec{r}}{d\\theta}$. "
      ]
    },
    {
      "cell_type": "markdown",
      "metadata": {
        "id": "aVbVlyTMDrGf",
        "colab_type": "text"
      },
      "source": [
        "\n",
        "---\n",
        "\n",
        "\n",
        "QUESTION: For the next step in the derivation, we will assume our orbiter is at a distance $r$ from the origin, and that the orbiter makes an angle $\\theta$ with the x axis. \n",
        "\n",
        "\n",
        "![alt text](https://textimgs.s3.amazonaws.com/boundless-algebra/8e2h77svirb8tuhulx4q.jpe)\n",
        "\n",
        "How can we express the distance $r$ in terms of the orbiter's $x$ and $y$ coordinates and the angle $\\theta$? Write out the equation below:\n",
        "\n",
        "$\\hat{r} = $\n",
        "\n",
        "\n",
        "---\n",
        "\n"
      ]
    },
    {
      "cell_type": "markdown",
      "metadata": {
        "id": "ji917A6sQpCl",
        "colab_type": "text"
      },
      "source": [
        "\n",
        "\n",
        "---\n",
        "\n",
        "\n",
        "\n",
        "Take the derivative of both sides (you may refer to this [list of the derivatives of common functions](https://http://tutorial.math.lamar.edu/pdf/common_derivatives_integrals.pdf)):\n",
        "\n",
        "$\\frac{d\\vec{r}}{d\\theta} = $\n",
        "\n",
        "\n",
        "\n",
        "\n",
        "\n",
        "\n",
        "---\n",
        "\n"
      ]
    },
    {
      "cell_type": "code",
      "metadata": {
        "id": "69esu5GxRTMX",
        "colab_type": "code",
        "colab": {}
      },
      "source": [
        ""
      ],
      "execution_count": 0,
      "outputs": []
    },
    {
      "cell_type": "markdown",
      "metadata": {
        "id": "GmgUZ1qwSZmz",
        "colab_type": "text"
      },
      "source": [
        "We also need to be concerned with $\\hat{\\theta}$. This is the vector. It is perpendicular to $\\hat{r}$.\n",
        "\n",
        "\n",
        "![orientation of polar unit vectors](https://i.gyazo.com/6685ade5d3ab158b496077f7481551ea.png)\n",
        "\n",
        "I would like to assert that what you just wrote in the previous step as an expression for $\\frac{d\\vec{r}}{d\\theta}$ is actually $\\hat{\\theta}$. Let me explain. We need something perpendicular to $\\hat{r}$, which means the [dot product](https://hyperphysics.phy-astr.gsu.edu/hbase/vsca.html) of  $\\hat{r}$ and $\\hat{\\theta}$ should be zero. \n",
        "\n",
        "TO BE CONTINUED..."
      ]
    }
  ]
}